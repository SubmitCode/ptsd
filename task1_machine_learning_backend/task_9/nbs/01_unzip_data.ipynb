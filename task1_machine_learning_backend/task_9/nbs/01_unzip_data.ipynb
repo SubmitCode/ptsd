{
 "cells": [
  {
   "cell_type": "markdown",
   "metadata": {},
   "source": [
    "# unzip data"
   ]
  },
  {
   "cell_type": "code",
   "execution_count": 18,
   "metadata": {},
   "outputs": [],
   "source": [
    "#export\n",
    "from zipfile import ZipFile\n",
    "from pathlib import Path\n",
    "import pathlib"
   ]
  },
  {
   "cell_type": "code",
   "execution_count": 19,
   "metadata": {},
   "outputs": [
    {
     "name": "stdout",
     "output_type": "stream",
     "text": [
      "PTSD_Transcripts.txt.zip  Transcripts.zip\r\n"
     ]
    }
   ],
   "source": [
    "!ls ../data/raw"
   ]
  },
  {
   "cell_type": "code",
   "execution_count": 20,
   "metadata": {},
   "outputs": [],
   "source": [
    "#export\n",
    "PATH_RAW_DATA = Path('../data/raw/')\n",
    "PATH_INTERIM_DATA = Path('../data/interim/')\n",
    "PATH_TRANSCRIPT_ZIP = PATH_RAW_DATA / 'Transcripts.zip'\n",
    "\n",
    "def unzip_transcripts(file:Path=PATH_TRANSCRIPT_ZIP):\n",
    "    with ZipFile(str(file), 'r') as zf:\n",
    "        zf.extractall(str(PATH_INTERIM_DATA))"
   ]
  },
  {
   "cell_type": "code",
   "execution_count": 21,
   "metadata": {},
   "outputs": [
    {
     "name": "stdout",
     "output_type": "stream",
     "text": [
      "Converted 01_unzip_data.ipynb to exp/nb_01.py\r\n"
     ]
    }
   ],
   "source": [
    "!python notebook2script.py 01_unzip_data.ipynb"
   ]
  },
  {
   "cell_type": "code",
   "execution_count": 13,
   "metadata": {},
   "outputs": [
    {
     "name": "stdout",
     "output_type": "stream",
     "text": [
      "1001-1010.txt  1301-1310.txt  161-170.txt    391-400.txt  711-720.txt\r\n",
      "1011-1020.txt  1311-1320.txt  1621-1630.txt  401-410.txt  71-80.txt\r\n",
      "101-110.txt    131-140.txt    1631-1640.txt  411-420.txt  721-730.txt\r\n",
      "1021-1030.txt  1321-1330.txt  1641-1650.txt  41-50.txt\t  731-740.txt\r\n",
      "1031-1040.txt  1331-1340.txt  1651-1660.txt  421-430.txt  741-750.txt\r\n",
      "1041-1050.txt  1341-1350.txt  1661-1670.txt  431-440.txt  751-760.txt\r\n",
      "1051-1060.txt  1351-1360.txt  1671-1680.txt  441-450.txt  761-770.txt\r\n",
      "1061-1070.txt  1361-1370.txt  1681-1690.txt  451-460.txt  771-780.txt\r\n",
      "1071-1080.txt  1371-1380.txt  1691-1700.txt  461-470.txt  781-790.txt\r\n",
      "1081-1090.txt  1381-1390.txt  1701-1710.txt  471-480.txt  791-800.txt\r\n",
      "1091-1100.txt  1391-1400.txt  1711-1715.txt  481-490.txt  801-810.txt\r\n",
      "1101-1110.txt  1401-1410.txt  171-180.txt    491-500.txt  811-820.txt\r\n",
      "1-10.txt       1411-1420.txt  181-190.txt    501-510.txt  81-90.txt\r\n",
      "1111-1120.txt  141-150.txt    191-200.txt    511-520.txt  821-830.txt\r\n",
      "111-120.txt    1421-1430.txt  201-210.txt    51-60.txt\t  831-840.txt\r\n",
      "11-20.txt      1431-1440.txt  211-220.txt    521-530.txt  841-850.txt\r\n",
      "1121-1130.txt  1441-1450.txt  21-30.txt      531-540.txt  851-860.txt\r\n",
      "1131-1140.txt  1451-1460.txt  221-230.txt    541-550.txt  861-870.txt\r\n",
      "1141-1150.txt  1461-1470.txt  231-240.txt    551-560.txt  871-880.txt\r\n",
      "1151-1160.txt  1471-1480.txt  241-250.txt    561-570.txt  881-890.txt\r\n",
      "1161-1170.txt  1481-1490.txt  251-260.txt    571-580.txt  891-900.txt\r\n",
      "1171-1180.txt  1491-1500.txt  261-270.txt    581-590.txt  901-910.txt\r\n",
      "1181-1190.txt  1501-1510.txt  271-280.txt    591-600.txt  91-100.txt\r\n",
      "1191-1200.txt  1511-1520.txt  281-290.txt    601-610.txt  911-920.txt\r\n",
      "1201-1210.txt  151-160.txt    291-300.txt    611-620.txt  921-930.txt\r\n",
      "1211-1220.txt  1521-1530.txt  301-310.txt    61-70.txt\t  931-940.txt\r\n",
      "121-130.txt    1531-1540.txt  311-320.txt    621-630.txt  941-950.txt\r\n",
      "1221-1230.txt  1541-1550.txt  31-40.txt      631-640.txt  951-960.txt\r\n",
      "1231-1240.txt  1551-1560.txt  321-330.txt    641-650.txt  961-970.txt\r\n",
      "1241-1250.txt  1561-1570.txt  331-340.txt    651-660.txt  971-980.txt\r\n",
      "1251-1260.txt  1571-1580.txt  341-350.txt    661-670.txt  981-990.txt\r\n",
      "1261-1270.txt  1581-1590.txt  351-360.txt    671-680.txt  991-1000.txt\r\n",
      "1271-1280.txt  1591-1600.txt  361-370.txt    681-690.txt\r\n",
      "1281-1290.txt  1601-1610.txt  371-380.txt    691-700.txt\r\n",
      "1291-1300.txt  1611-1620.txt  381-390.txt    701-710.txt\r\n"
     ]
    }
   ],
   "source": [
    "!ls ../data/interim"
   ]
  }
 ],
 "metadata": {
  "hide_input": false,
  "kernelspec": {
   "display_name": "Python 3",
   "language": "python",
   "name": "python3"
  },
  "language_info": {
   "codemirror_mode": {
    "name": "ipython",
    "version": 3
   },
   "file_extension": ".py",
   "mimetype": "text/x-python",
   "name": "python",
   "nbconvert_exporter": "python",
   "pygments_lexer": "ipython3",
   "version": "3.7.0"
  },
  "toc": {
   "base_numbering": 1,
   "nav_menu": {},
   "number_sections": true,
   "sideBar": true,
   "skip_h1_title": false,
   "title_cell": "Table of Contents",
   "title_sidebar": "Contents",
   "toc_cell": false,
   "toc_position": {},
   "toc_section_display": true,
   "toc_window_display": false
  }
 },
 "nbformat": 4,
 "nbformat_minor": 2
}
